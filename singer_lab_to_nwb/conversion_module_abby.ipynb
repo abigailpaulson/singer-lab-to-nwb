{
 "cells": [
  {
   "cell_type": "markdown",
   "metadata": {},
   "source": [
    "## Convert to NWB"
   ]
  },
  {
   "cell_type": "markdown",
   "metadata": {},
   "source": [
    "Import libraries and functions"
   ]
  },
  {
   "cell_type": "code",
   "execution_count": 3,
   "metadata": {},
   "outputs": [],
   "source": [
    "#import libraries\n",
    "import pynwb\n",
    "from singer_lab_to_nwb.ecephys import Intan2NWB\n",
    "import numpy as np\n",
    "import yaml\n",
    "import os"
   ]
  },
  {
   "cell_type": "markdown",
   "metadata": {},
   "source": [
    "Setup filenames (will become command line arguments)"
   ]
  },
  {
   "cell_type": "code",
   "execution_count": 4,
   "metadata": {},
   "outputs": [],
   "source": [
    "# get source files\n",
    "base_path = 'C:\\\\Users\\\\apaulson3\\\\Desktop\\\\testingNWB\\\\'\n",
    "source_paths = dict(\n",
    "    dir_ecephys_rhd=dict(\n",
    "        type='dir',\n",
    "        path=os.path.join(base_path,'rawData\\\\A25_200317')\n",
    "    ),\n",
    "    # file_electrodes=dict(\n",
    "    #     type='file',\n",
    "    #     path=os.path.join(base_path,'impedances_example.csv')\n",
    "    # )\n",
    ")\n",
    "\n",
    "#output filename\n",
    "f_nwb = os.path.join(base_path,'my_experiment.nwb')\n",
    "\n",
    "#get metafile\n",
    "metafile = 'template_metafile.yml'\n",
    "with open(metafile, 'r') as f:\n",
    "    metadata = yaml.safe_load(f)"
   ]
  },
  {
   "cell_type": "markdown",
   "metadata": {},
   "source": [
    "Define main conversion function"
   ]
  },
  {
   "cell_type": "code",
   "execution_count": 5,
   "metadata": {},
   "outputs": [],
   "source": [
    "def conversion_function(source_paths, f_nwb, metadata, add_rhd=False, **kwargs):\n",
    "    \"\"\"\n",
    "    Convert data from a diversity of experiment types to nwb.\n",
    "\n",
    "    Parameters\n",
    "    ----------\n",
    "    source_paths : dict\n",
    "        Dictionary with paths to source files/directories. e.g.:\n",
    "        {\n",
    "        'dir_ecepys_rhd': {'type': 'dir', 'path': ''},\n",
    "        'file_electrodes': {'type': 'file', 'path': ''},\n",
    "        }\n",
    "    f_nwb : str\n",
    "        Path to output NWB file, e.g. 'my_file.nwb'.\n",
    "    metadata : dict\n",
    "        Metadata dictionary\n",
    "    **kwargs : key, value pairs\n",
    "        Extra keyword arguments\n",
    "    \"\"\"\n",
    "    nwbfile = None\n",
    "    \n",
    "    # Adding ecephys\n",
    "    if add_rhd:\n",
    "        #initialize\n",
    "        nwbfile = Intan2NWB(\n",
    "            nwbfile=nwbfile,\n",
    "            metadata=metadata,\n",
    "            source_paths=source_paths,\n",
    "        )\n",
    "        nwbfile.run_conversion()\n",
    "\n",
    "    # Saves to NWB file\n",
    "    nwbfile.save(to_path=f_nwb)\n",
    "    print('NWB file saved with size: ', os.stat(f_nwb).st_size / 1e6, ' mb')\n"
   ]
  },
  {
   "cell_type": "markdown",
   "metadata": {},
   "source": [
    "Run conversion section"
   ]
  },
  {
   "cell_type": "code",
   "execution_count": 6,
   "metadata": {
    "scrolled": true
   },
   "outputs": [
    {
     "name": "stderr",
     "output_type": "stream",
     "text": [
      "C:\\Users\\apaulson3\\Anaconda3\\envs\\singer_lab_nwb\\lib\\site-packages\\pynwb\\file.py:749: UserWarning: Date is missing timezone information. Updating to local timezone.\n",
      "  warn(\"Date is missing timezone information. Updating to local timezone.\")\n"
     ]
    },
    {
     "name": "stdout",
     "output_type": "stream",
     "text": [
      "Converting ecephys rhd data: 0.0%\n",
      "Converting ecephys rhd data: 6.666666666666667%\n",
      "Converting ecephys rhd data: 13.333333333333334%\n",
      "Converting ecephys rhd data: 20.0%\n",
      "Converting ecephys rhd data: 26.666666666666668%\n",
      "Converting ecephys rhd data: 33.333333333333336%\n",
      "Converting ecephys rhd data: 40.0%\n",
      "Converting ecephys rhd data: 46.666666666666664%\n",
      "Converting ecephys rhd data: 53.333333333333336%\n",
      "Converting ecephys rhd data: 60.0%\n",
      "Converting ecephys rhd data: 66.66666666666667%\n",
      "Converting ecephys rhd data: 73.33333333333333%\n",
      "Converting ecephys rhd data: 80.0%\n",
      "Converting ecephys rhd data: 86.66666666666667%\n",
      "Converting ecephys rhd data: 93.33333333333333%\n",
      "NWB file saved with size:  9204.380264  mb\n"
     ]
    }
   ],
   "source": [
    "#convert data to nwb\n",
    "conversion_function(source_paths=source_paths,\n",
    "                    f_nwb=f_nwb,\n",
    "                    metadata=metadata,\n",
    "                    add_rhd=True,\n",
    "                   )"
   ]
  },
  {
   "cell_type": "code",
   "execution_count": null,
   "metadata": {},
   "outputs": [],
   "source": [
    "# for idx in [1, 2, 3, 4]:\n",
    "#     nwbfile.add_electrode(id=idx,\n",
    "#                           x=1.0, y=2.0, z=3.0,\n",
    "#                           imp=float(-idx),\n",
    "#                           location='CA1', filtering='none',\n",
    "#                           group=electrode_group)"
   ]
  },
  {
   "cell_type": "code",
   "execution_count": null,
   "metadata": {},
   "outputs": [],
   "source": [
    "#ideally would be able to run something from the command line like this\n",
    "# python conversion_module.py my_experiment.nwb metafile.yml --add_rhd --add_treadmill\n",
    "# --dir_behavior_treadmill PATH_TO_FILES --dir_ecepys_rhd PATH_TO_FILES\n",
    "# --file_electrodes PATH_TO_FILES\\UD09_impedance_1.csv"
   ]
  },
  {
   "cell_type": "markdown",
   "metadata": {},
   "source": [
    "## Inspect NWB file"
   ]
  },
  {
   "cell_type": "code",
   "execution_count": 7,
   "metadata": {},
   "outputs": [],
   "source": [
    "from pynwb import NWBHDF5IO\n",
    "from nwbwidgets import nwb2widget"
   ]
  },
  {
   "cell_type": "code",
   "execution_count": 8,
   "metadata": {},
   "outputs": [
    {
     "data": {
      "text/plain": "VBox(children=(HBox(children=(Label(value='session_description:', layout=Layout(max_height='40px', max_width='…",
      "application/vnd.jupyter.widget-view+json": {
       "version_major": 2,
       "version_minor": 0,
       "model_id": "2f6d90a36eb14ee28ca1d901e9c4f3f5"
      }
     },
     "metadata": {},
     "output_type": "display_data"
    }
   ],
   "source": [
    "io = NWBHDF5IO(f_nwb, mode='r')\n",
    "nwb = io.read()\n",
    "nwb2widget(nwb)"
   ]
  },
  {
   "cell_type": "code",
   "execution_count": null,
   "metadata": {},
   "outputs": [],
   "source": []
  }
 ],
 "metadata": {
  "kernelspec": {
   "name": "pycharm-f6e823c1",
   "language": "python",
   "display_name": "PyCharm (singer-lab-to-nwb)"
  },
  "language_info": {
   "codemirror_mode": {
    "name": "ipython",
    "version": 3
   },
   "file_extension": ".py",
   "mimetype": "text/x-python",
   "name": "python",
   "nbconvert_exporter": "python",
   "pygments_lexer": "ipython3",
   "version": "3.7.7"
  }
 },
 "nbformat": 4,
 "nbformat_minor": 4
}