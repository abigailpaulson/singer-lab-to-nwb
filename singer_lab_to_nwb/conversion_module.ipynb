{
 "cells": [
  {
   "cell_type": "markdown",
   "metadata": {},
   "source": [
    "## Convert to NWB"
   ]
  },
  {
   "cell_type": "markdown",
   "metadata": {},
   "source": [
    "Import libraries and functions"
   ]
  },
  {
   "cell_type": "code",
   "execution_count": 1,
   "metadata": {},
   "outputs": [],
   "source": [
    "#import libraries\n",
    "import pynwb\n",
    "from singer_lab_to_nwb.ecephys import Intan2NWB\n",
    "import numpy as np\n",
    "import yaml\n",
    "import os"
   ]
  },
  {
   "cell_type": "markdown",
   "metadata": {},
   "source": [
    "Setup filenames (will become command line arguments)"
   ]
  },
  {
   "cell_type": "code",
   "execution_count": 2,
   "metadata": {},
   "outputs": [],
   "source": [
    "# get source files\n",
    "base_path = 'C:\\\\Users\\\\sprince7\\\\Desktop\\\\'\n",
    "source_paths = dict(\n",
    "    dir_ecephys_rhd=dict(\n",
    "        type='dir',\n",
    "        path=os.path.join(base_path,'180123 F1')\n",
    "    ),\n",
    "    file_electrodes=dict(\n",
    "        type='file',\n",
    "        path=os.path.join(base_path,'impedances_example.csv')\n",
    "    )\n",
    ")\n",
    "\n",
    "#output filename\n",
    "f_nwb = os.path.join(base_path,'my_experiment.nwb')\n",
    "\n",
    "#get metafile\n",
    "metafile = 'template_metafile.yml'\n",
    "with open(metafile, 'r') as f:\n",
    "    metadata = yaml.safe_load(f)"
   ]
  },
  {
   "cell_type": "markdown",
   "metadata": {},
   "source": [
    "Define main conversion function"
   ]
  },
  {
   "cell_type": "code",
   "execution_count": 3,
   "metadata": {},
   "outputs": [],
   "source": [
    "def conversion_function(source_paths, f_nwb, metadata, add_rhd=False, **kwargs):\n",
    "    \"\"\"\n",
    "    Convert data from a diversity of experiment types to nwb.\n",
    "\n",
    "    Parameters\n",
    "    ----------\n",
    "    source_paths : dict\n",
    "        Dictionary with paths to source files/directories. e.g.:\n",
    "        {\n",
    "        'dir_ecepys_rhd': {'type': 'dir', 'path': ''},\n",
    "        'file_electrodes': {'type': 'file', 'path': ''},\n",
    "        }\n",
    "    f_nwb : str\n",
    "        Path to output NWB file, e.g. 'my_file.nwb'.\n",
    "    metadata : dict\n",
    "        Metadata dictionary\n",
    "    **kwargs : key, value pairs\n",
    "        Extra keyword arguments\n",
    "    \"\"\"\n",
    "    nwbfile = None\n",
    "    \n",
    "    # Adding ecephys\n",
    "    if add_rhd:\n",
    "        #initialize\n",
    "        nwbfile = Intan2NWB(\n",
    "            nwbfile=nwbfile,\n",
    "            metadata=metadata,\n",
    "            source_paths=source_paths,\n",
    "        )\n",
    "        nwbfile.run_conversion()\n",
    "\n",
    "    # Saves to NWB file\n",
    "    nwbfile.save(to_path=f_nwb)\n",
    "    print('NWB file saved with size: ', os.stat(f_nwb).st_size / 1e6, ' mb')\n"
   ]
  },
  {
   "cell_type": "markdown",
   "metadata": {},
   "source": [
    "Run conversion section"
   ]
  },
  {
   "cell_type": "code",
   "execution_count": 4,
   "metadata": {
    "scrolled": true
   },
   "outputs": [
    {
     "name": "stderr",
     "output_type": "stream",
     "text": [
      "C:\\Users\\sprince7\\Anaconda3\\lib\\site-packages\\pynwb\\file.py:749: UserWarning: Date is missing timezone information. Updating to local timezone.\n",
      "  warn(\"Date is missing timezone information. Updating to local timezone.\")\n"
     ]
    },
    {
     "name": "stdout",
     "output_type": "stream",
     "text": [
      "Converting ecephys rhd data: 0.0%\n",
      "Converting ecephys rhd data: 0.5347593582887701%\n",
      "Converting ecephys rhd data: 1.0695187165775402%\n",
      "Converting ecephys rhd data: 1.6042780748663101%\n",
      "Converting ecephys rhd data: 2.1390374331550803%\n",
      "Converting ecephys rhd data: 2.6737967914438503%\n",
      "Converting ecephys rhd data: 3.2085561497326203%\n",
      "Converting ecephys rhd data: 3.7433155080213902%\n",
      "Converting ecephys rhd data: 4.278074866310161%\n",
      "Converting ecephys rhd data: 4.81283422459893%\n",
      "Converting ecephys rhd data: 5.347593582887701%\n",
      "Converting ecephys rhd data: 5.882352941176471%\n",
      "Converting ecephys rhd data: 6.4171122994652405%\n",
      "Converting ecephys rhd data: 6.951871657754011%\n",
      "Converting ecephys rhd data: 7.4866310160427805%\n",
      "Converting ecephys rhd data: 8.02139037433155%\n",
      "Converting ecephys rhd data: 8.556149732620321%\n",
      "Converting ecephys rhd data: 9.090909090909092%\n",
      "Converting ecephys rhd data: 9.62566844919786%\n",
      "Converting ecephys rhd data: 10.16042780748663%\n",
      "Converting ecephys rhd data: 10.695187165775401%\n",
      "Converting ecephys rhd data: 11.229946524064172%\n",
      "Converting ecephys rhd data: 11.764705882352942%\n",
      "Converting ecephys rhd data: 12.29946524064171%\n",
      "Converting ecephys rhd data: 12.834224598930481%\n",
      "Converting ecephys rhd data: 13.368983957219251%\n",
      "Converting ecephys rhd data: 13.903743315508022%\n",
      "Converting ecephys rhd data: 14.438502673796792%\n",
      "Converting ecephys rhd data: 14.973262032085561%\n",
      "Converting ecephys rhd data: 15.508021390374331%\n",
      "Converting ecephys rhd data: 16.0427807486631%\n",
      "Converting ecephys rhd data: 16.577540106951872%\n",
      "Converting ecephys rhd data: 17.112299465240643%\n",
      "Converting ecephys rhd data: 17.647058823529413%\n",
      "Converting ecephys rhd data: 18.181818181818183%\n",
      "Converting ecephys rhd data: 18.71657754010695%\n",
      "Converting ecephys rhd data: 19.25133689839572%\n",
      "Converting ecephys rhd data: 19.78609625668449%\n",
      "Converting ecephys rhd data: 20.32085561497326%\n",
      "Converting ecephys rhd data: 20.855614973262032%\n",
      "Converting ecephys rhd data: 21.390374331550802%\n",
      "Converting ecephys rhd data: 21.925133689839573%\n",
      "Converting ecephys rhd data: 22.459893048128343%\n",
      "Converting ecephys rhd data: 22.994652406417114%\n",
      "Converting ecephys rhd data: 23.529411764705884%\n",
      "Converting ecephys rhd data: 24.06417112299465%\n",
      "Converting ecephys rhd data: 24.59893048128342%\n",
      "Converting ecephys rhd data: 25.13368983957219%\n",
      "Converting ecephys rhd data: 25.668449197860962%\n",
      "Converting ecephys rhd data: 26.203208556149733%\n",
      "Converting ecephys rhd data: 26.737967914438503%\n",
      "Converting ecephys rhd data: 27.272727272727273%\n",
      "Converting ecephys rhd data: 27.807486631016044%\n",
      "Converting ecephys rhd data: 28.342245989304814%\n",
      "Converting ecephys rhd data: 28.877005347593585%\n",
      "Converting ecephys rhd data: 29.41176470588235%\n",
      "Converting ecephys rhd data: 29.946524064171122%\n",
      "Converting ecephys rhd data: 30.481283422459892%\n",
      "Converting ecephys rhd data: 31.016042780748663%\n",
      "Converting ecephys rhd data: 31.550802139037433%\n",
      "Converting ecephys rhd data: 32.0855614973262%\n",
      "Converting ecephys rhd data: 32.62032085561497%\n",
      "Converting ecephys rhd data: 33.155080213903744%\n",
      "Converting ecephys rhd data: 33.68983957219251%\n",
      "Converting ecephys rhd data: 34.224598930481285%\n",
      "Converting ecephys rhd data: 34.75935828877005%\n",
      "Converting ecephys rhd data: 35.294117647058826%\n",
      "Converting ecephys rhd data: 35.82887700534759%\n",
      "Converting ecephys rhd data: 36.36363636363637%\n",
      "Converting ecephys rhd data: 36.898395721925134%\n",
      "Converting ecephys rhd data: 37.4331550802139%\n",
      "Converting ecephys rhd data: 37.967914438502675%\n",
      "Converting ecephys rhd data: 38.50267379679144%\n",
      "Converting ecephys rhd data: 39.037433155080215%\n",
      "Converting ecephys rhd data: 39.57219251336898%\n",
      "Converting ecephys rhd data: 40.106951871657756%\n",
      "Converting ecephys rhd data: 40.64171122994652%\n",
      "Converting ecephys rhd data: 41.1764705882353%\n",
      "Converting ecephys rhd data: 41.711229946524064%\n",
      "Converting ecephys rhd data: 42.24598930481283%\n",
      "Converting ecephys rhd data: 42.780748663101605%\n",
      "Converting ecephys rhd data: 43.31550802139037%\n",
      "Converting ecephys rhd data: 43.850267379679146%\n",
      "Converting ecephys rhd data: 44.38502673796791%\n",
      "Converting ecephys rhd data: 44.919786096256686%\n",
      "Converting ecephys rhd data: 45.45454545454545%\n",
      "Converting ecephys rhd data: 45.98930481283423%\n",
      "Converting ecephys rhd data: 46.524064171122994%\n",
      "Converting ecephys rhd data: 47.05882352941177%\n",
      "Converting ecephys rhd data: 47.593582887700535%\n",
      "Converting ecephys rhd data: 48.1283422459893%\n",
      "Converting ecephys rhd data: 48.663101604278076%\n",
      "Converting ecephys rhd data: 49.19786096256684%\n",
      "Converting ecephys rhd data: 49.73262032085562%\n",
      "Converting ecephys rhd data: 50.26737967914438%\n",
      "Converting ecephys rhd data: 50.80213903743316%\n",
      "Converting ecephys rhd data: 51.336898395721924%\n",
      "Converting ecephys rhd data: 51.8716577540107%\n",
      "Converting ecephys rhd data: 52.406417112299465%\n",
      "Converting ecephys rhd data: 52.94117647058823%\n",
      "Converting ecephys rhd data: 53.475935828877006%\n",
      "Converting ecephys rhd data: 54.01069518716577%\n",
      "Converting ecephys rhd data: 54.54545454545455%\n",
      "Converting ecephys rhd data: 55.080213903743314%\n",
      "Converting ecephys rhd data: 55.61497326203209%\n",
      "Converting ecephys rhd data: 56.149732620320854%\n",
      "Converting ecephys rhd data: 56.68449197860963%\n",
      "Converting ecephys rhd data: 57.219251336898395%\n",
      "Converting ecephys rhd data: 57.75401069518717%\n",
      "Converting ecephys rhd data: 58.288770053475936%\n",
      "Converting ecephys rhd data: 58.8235294117647%\n",
      "Converting ecephys rhd data: 59.35828877005348%\n",
      "Converting ecephys rhd data: 59.893048128342244%\n",
      "Converting ecephys rhd data: 60.42780748663102%\n",
      "Converting ecephys rhd data: 60.962566844919785%\n",
      "Converting ecephys rhd data: 61.49732620320856%\n",
      "Converting ecephys rhd data: 62.032085561497325%\n",
      "Converting ecephys rhd data: 62.5668449197861%\n",
      "Converting ecephys rhd data: 63.101604278074866%\n",
      "Converting ecephys rhd data: 63.63636363636363%\n",
      "Converting ecephys rhd data: 64.1711229946524%\n",
      "Converting ecephys rhd data: 64.70588235294117%\n",
      "Converting ecephys rhd data: 65.24064171122994%\n",
      "Converting ecephys rhd data: 65.77540106951872%\n",
      "Converting ecephys rhd data: 66.31016042780749%\n",
      "Converting ecephys rhd data: 66.84491978609626%\n",
      "Converting ecephys rhd data: 67.37967914438502%\n",
      "Converting ecephys rhd data: 67.9144385026738%\n",
      "Converting ecephys rhd data: 68.44919786096257%\n",
      "Converting ecephys rhd data: 68.98395721925134%\n",
      "Converting ecephys rhd data: 69.5187165775401%\n",
      "Converting ecephys rhd data: 70.05347593582887%\n",
      "Converting ecephys rhd data: 70.58823529411765%\n",
      "Converting ecephys rhd data: 71.12299465240642%\n",
      "Converting ecephys rhd data: 71.65775401069519%\n",
      "Converting ecephys rhd data: 72.19251336898395%\n",
      "Converting ecephys rhd data: 72.72727272727273%\n",
      "Converting ecephys rhd data: 73.2620320855615%\n",
      "Converting ecephys rhd data: 73.79679144385027%\n",
      "Converting ecephys rhd data: 74.33155080213903%\n",
      "Converting ecephys rhd data: 74.8663101604278%\n",
      "Converting ecephys rhd data: 75.40106951871658%\n",
      "Converting ecephys rhd data: 75.93582887700535%\n",
      "Converting ecephys rhd data: 76.47058823529412%\n",
      "Converting ecephys rhd data: 77.00534759358288%\n",
      "Converting ecephys rhd data: 77.54010695187166%\n",
      "Converting ecephys rhd data: 78.07486631016043%\n",
      "Converting ecephys rhd data: 78.6096256684492%\n",
      "Converting ecephys rhd data: 79.14438502673796%\n",
      "Converting ecephys rhd data: 79.67914438502673%\n",
      "Converting ecephys rhd data: 80.21390374331551%\n",
      "Converting ecephys rhd data: 80.74866310160428%\n",
      "Converting ecephys rhd data: 81.28342245989305%\n",
      "Converting ecephys rhd data: 81.81818181818181%\n",
      "Converting ecephys rhd data: 82.3529411764706%\n",
      "Converting ecephys rhd data: 82.88770053475936%\n",
      "Converting ecephys rhd data: 83.42245989304813%\n",
      "Converting ecephys rhd data: 83.9572192513369%\n",
      "Converting ecephys rhd data: 84.49197860962566%\n",
      "Converting ecephys rhd data: 85.02673796791444%\n",
      "Converting ecephys rhd data: 85.56149732620321%\n",
      "Converting ecephys rhd data: 86.09625668449198%\n",
      "Converting ecephys rhd data: 86.63101604278074%\n",
      "Converting ecephys rhd data: 87.16577540106952%\n",
      "Converting ecephys rhd data: 87.70053475935829%\n",
      "Converting ecephys rhd data: 88.23529411764706%\n",
      "Converting ecephys rhd data: 88.77005347593582%\n",
      "Converting ecephys rhd data: 89.3048128342246%\n",
      "Converting ecephys rhd data: 89.83957219251337%\n",
      "Converting ecephys rhd data: 90.37433155080214%\n",
      "Converting ecephys rhd data: 90.9090909090909%\n"
     ]
    },
    {
     "name": "stdout",
     "output_type": "stream",
     "text": [
      "Converting ecephys rhd data: 91.44385026737967%\n",
      "Converting ecephys rhd data: 91.97860962566845%\n",
      "Converting ecephys rhd data: 92.51336898395722%\n",
      "Converting ecephys rhd data: 93.04812834224599%\n",
      "Converting ecephys rhd data: 93.58288770053476%\n",
      "Converting ecephys rhd data: 94.11764705882354%\n",
      "Converting ecephys rhd data: 94.6524064171123%\n",
      "Converting ecephys rhd data: 95.18716577540107%\n",
      "Converting ecephys rhd data: 95.72192513368984%\n",
      "Converting ecephys rhd data: 96.2566844919786%\n",
      "Converting ecephys rhd data: 96.79144385026738%\n",
      "Converting ecephys rhd data: 97.32620320855615%\n",
      "Converting ecephys rhd data: 97.86096256684492%\n",
      "Converting ecephys rhd data: 98.39572192513369%\n",
      "Converting ecephys rhd data: 98.93048128342247%\n",
      "Converting ecephys rhd data: 99.46524064171123%\n",
      "NWB file saved with size:  26894.225336  mb\n"
     ]
    }
   ],
   "source": [
    "#convert data to nwb\n",
    "conversion_function(source_paths=source_paths,\n",
    "                    f_nwb=f_nwb,\n",
    "                    metadata=metadata,\n",
    "                    add_rhd=True,\n",
    "                   )"
   ]
  },
  {
   "cell_type": "code",
   "execution_count": null,
   "metadata": {},
   "outputs": [],
   "source": [
    "# for idx in [1, 2, 3, 4]:\n",
    "#     nwbfile.add_electrode(id=idx,\n",
    "#                           x=1.0, y=2.0, z=3.0,\n",
    "#                           imp=float(-idx),\n",
    "#                           location='CA1', filtering='none',\n",
    "#                           group=electrode_group)"
   ]
  },
  {
   "cell_type": "code",
   "execution_count": null,
   "metadata": {},
   "outputs": [],
   "source": [
    "#ideally would be able to run something from the command line like this\n",
    "# python conversion_module.py my_experiment.nwb metafile.yml --add_rhd --add_treadmill\n",
    "# --dir_behavior_treadmill PATH_TO_FILES --dir_ecepys_rhd PATH_TO_FILES\n",
    "# --file_electrodes PATH_TO_FILES\\UD09_impedance_1.csv"
   ]
  },
  {
   "cell_type": "markdown",
   "metadata": {},
   "source": [
    "## Inspect NWB file"
   ]
  },
  {
   "cell_type": "code",
   "execution_count": 5,
   "metadata": {},
   "outputs": [],
   "source": [
    "from pynwb import NWBHDF5IO\n",
    "from nwbwidgets import nwb2widget"
   ]
  },
  {
   "cell_type": "code",
   "execution_count": 6,
   "metadata": {},
   "outputs": [
    {
     "data": {
      "application/vnd.jupyter.widget-view+json": {
       "model_id": "f5b3ea76ecd84d6dbda9e453e9b74836",
       "version_major": 2,
       "version_minor": 0
      },
      "text/plain": [
       "VBox(children=(HBox(children=(Label(value='session_description:', layout=Layout(max_height='40px', max_width='…"
      ]
     },
     "metadata": {},
     "output_type": "display_data"
    }
   ],
   "source": [
    "io = NWBHDF5IO(f_nwb, mode='r')\n",
    "nwb = io.read()\n",
    "nwb2widget(nwb)"
   ]
  },
  {
   "cell_type": "code",
   "execution_count": null,
   "metadata": {},
   "outputs": [],
   "source": []
  }
 ],
 "metadata": {
  "kernelspec": {
   "display_name": "Python 3",
   "language": "python",
   "name": "python3"
  },
  "language_info": {
   "codemirror_mode": {
    "name": "ipython",
    "version": 3
   },
   "file_extension": ".py",
   "mimetype": "text/x-python",
   "name": "python",
   "nbconvert_exporter": "python",
   "pygments_lexer": "ipython3",
   "version": "3.7.4"
  }
 },
 "nbformat": 4,
 "nbformat_minor": 4
}
