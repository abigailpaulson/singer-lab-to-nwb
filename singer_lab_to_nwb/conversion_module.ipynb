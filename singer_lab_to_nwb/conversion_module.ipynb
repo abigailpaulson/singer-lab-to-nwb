{
 "cells": [
  {
   "cell_type": "markdown",
   "metadata": {},
   "source": [
    "## Convert to NWB"
   ]
  },
  {
   "cell_type": "markdown",
   "metadata": {},
   "source": [
    "Import libraries and functions"
   ]
  },
  {
   "cell_type": "code",
   "execution_count": 1,
   "metadata": {},
   "outputs": [],
   "source": [
    "#import libraries\n",
    "import pynwb\n",
    "from singer_lab_to_nwb.ecephys import Intan2NWB\n",
    "import numpy as np\n",
    "import yaml\n",
    "import os"
   ]
  },
  {
   "cell_type": "markdown",
   "metadata": {},
   "source": [
    "Setup filenames (will become command line arguments)"
   ]
  },
  {
   "cell_type": "code",
   "execution_count": 2,
   "metadata": {},
   "outputs": [],
   "source": [
    "# get source files\n",
    "base_path = 'C:\\\\Users\\\\sprince7\\\\Desktop\\\\'\n",
    "source_paths = dict(\n",
    "    dir_ecephys_rhd=dict(\n",
    "        type='dir',\n",
    "        path=os.path.join(base_path,'180123 F1')\n",
    "    ),\n",
    "    file_electrodes=dict(\n",
    "        type='file',\n",
    "        path=os.path.join(base_path,'impedances_example.csv')\n",
    "    )\n",
    ")\n",
    "\n",
    "#output filename\n",
    "f_nwb = os.path.join(base_path,'my_experiment.nwb')\n",
    "\n",
    "#get metafile\n",
    "metafile = 'template_metafile.yml'\n",
    "with open(metafile, 'r') as f:\n",
    "    metadata = yaml.safe_load(f)"
   ]
  },
  {
   "cell_type": "markdown",
   "metadata": {},
   "source": [
    "Define main conversion function"
   ]
  },
  {
   "cell_type": "code",
   "execution_count": 3,
   "metadata": {},
   "outputs": [],
   "source": [
    "def conversion_function(source_paths, f_nwb, metadata, add_rhd=False, **kwargs):\n",
    "    \"\"\"\n",
    "    Convert data from a diversity of experiment types to nwb.\n",
    "\n",
    "    Parameters\n",
    "    ----------\n",
    "    source_paths : dict\n",
    "        Dictionary with paths to source files/directories. e.g.:\n",
    "        {\n",
    "        'dir_ecepys_rhd': {'type': 'dir', 'path': ''},\n",
    "        'file_electrodes': {'type': 'file', 'path': ''},\n",
    "        }\n",
    "    f_nwb : str\n",
    "        Path to output NWB file, e.g. 'my_file.nwb'.\n",
    "    metadata : dict\n",
    "        Metadata dictionary\n",
    "    **kwargs : key, value pairs\n",
    "        Extra keyword arguments\n",
    "    \"\"\"\n",
    "    nwbfile = None\n",
    "    \n",
    "    # Adding ecephys\n",
    "    if add_rhd:\n",
    "        #initialize\n",
    "        nwbfile = Intan2NWB(\n",
    "            nwbfile=nwbfile,\n",
    "            metadata=metadata,\n",
    "            source_paths=source_paths,\n",
    "        )\n",
    "        nwbfile.run_conversion()\n",
    "\n",
    "    # Saves to NWB file\n",
    "    nwbfile.save(to_path=f_nwb)\n",
    "    print('NWB file saved with size: ', os.stat(f_nwb).st_size / 1e6, ' mb')\n"
   ]
  },
  {
   "cell_type": "markdown",
   "metadata": {},
   "source": [
    "Run conversion section"
   ]
  },
  {
   "cell_type": "code",
   "execution_count": null,
   "metadata": {
    "scrolled": true
   },
   "outputs": [
    {
     "name": "stderr",
     "output_type": "stream",
     "text": [
      "C:\\Users\\sprince7\\Anaconda3\\lib\\site-packages\\pynwb\\file.py:749: UserWarning: Date is missing timezone information. Updating to local timezone.\n",
      "  warn(\"Date is missing timezone information. Updating to local timezone.\")\n"
     ]
    },
    {
     "name": "stdout",
     "output_type": "stream",
     "text": [
      "Converting ecephys rhd data: 0.0%\n",
      "Converting ecephys rhd data: 0.5347593582887701%\n",
      "Converting ecephys rhd data: 1.0695187165775402%\n",
      "Converting ecephys rhd data: 1.6042780748663101%\n",
      "Converting ecephys rhd data: 2.1390374331550803%\n",
      "Converting ecephys rhd data: 2.6737967914438503%\n",
      "Converting ecephys rhd data: 3.2085561497326203%\n",
      "Converting ecephys rhd data: 3.7433155080213902%\n",
      "Converting ecephys rhd data: 4.278074866310161%\n",
      "Converting ecephys rhd data: 4.81283422459893%\n",
      "Converting ecephys rhd data: 5.347593582887701%\n",
      "Converting ecephys rhd data: 5.882352941176471%\n",
      "Converting ecephys rhd data: 6.4171122994652405%\n",
      "Converting ecephys rhd data: 6.951871657754011%\n",
      "Converting ecephys rhd data: 7.4866310160427805%\n",
      "Converting ecephys rhd data: 8.02139037433155%\n",
      "Converting ecephys rhd data: 8.556149732620321%\n",
      "Converting ecephys rhd data: 9.090909090909092%\n",
      "Converting ecephys rhd data: 9.62566844919786%\n",
      "Converting ecephys rhd data: 10.16042780748663%\n",
      "Converting ecephys rhd data: 10.695187165775401%\n",
      "Converting ecephys rhd data: 11.229946524064172%\n",
      "Converting ecephys rhd data: 11.764705882352942%\n",
      "Converting ecephys rhd data: 12.29946524064171%\n",
      "Converting ecephys rhd data: 12.834224598930481%\n",
      "Converting ecephys rhd data: 13.368983957219251%\n",
      "Converting ecephys rhd data: 13.903743315508022%\n",
      "Converting ecephys rhd data: 14.438502673796792%\n",
      "Converting ecephys rhd data: 14.973262032085561%\n",
      "Converting ecephys rhd data: 15.508021390374331%\n",
      "Converting ecephys rhd data: 16.0427807486631%\n",
      "Converting ecephys rhd data: 16.577540106951872%\n",
      "Converting ecephys rhd data: 17.112299465240643%\n",
      "Converting ecephys rhd data: 17.647058823529413%\n",
      "Converting ecephys rhd data: 18.181818181818183%\n",
      "Converting ecephys rhd data: 18.71657754010695%\n",
      "Converting ecephys rhd data: 19.25133689839572%\n",
      "Converting ecephys rhd data: 19.78609625668449%\n",
      "Converting ecephys rhd data: 20.32085561497326%\n",
      "Converting ecephys rhd data: 20.855614973262032%\n",
      "Converting ecephys rhd data: 21.390374331550802%\n",
      "Converting ecephys rhd data: 21.925133689839573%\n",
      "Converting ecephys rhd data: 22.459893048128343%\n",
      "Converting ecephys rhd data: 22.994652406417114%\n",
      "Converting ecephys rhd data: 23.529411764705884%\n"
     ]
    }
   ],
   "source": [
    "#convert data to nwb\n",
    "conversion_function(source_paths=source_paths,\n",
    "                    f_nwb=f_nwb,\n",
    "                    metadata=metadata,\n",
    "                    add_rhd=True,\n",
    "                   )"
   ]
  },
  {
   "cell_type": "code",
   "execution_count": null,
   "metadata": {},
   "outputs": [],
   "source": [
    "\n",
    "\n",
    "for idx in [1, 2, 3, 4]:\n",
    "    nwbfile.add_electrode(id=idx,\n",
    "                          x=1.0, y=2.0, z=3.0,\n",
    "                          imp=float(-idx),\n",
    "                          location='CA1', filtering='none',\n",
    "                          group=electrode_group)"
   ]
  },
  {
   "cell_type": "code",
   "execution_count": null,
   "metadata": {},
   "outputs": [],
   "source": [
    "#ideally would be able to run something from the command line like this\n",
    "# python conversion_module.py my_experiment.nwb metafile.yml --add_rhd --add_treadmill\n",
    "# --dir_behavior_treadmill PATH_TO_FILES --dir_ecepys_rhd PATH_TO_FILES\n",
    "# --file_electrodes PATH_TO_FILES\\UD09_impedance_1.csv"
   ]
  },
  {
   "cell_type": "markdown",
   "metadata": {},
   "source": [
    "## Inspect NWB file"
   ]
  },
  {
   "cell_type": "code",
   "execution_count": 26,
   "metadata": {},
   "outputs": [],
   "source": [
    "from pynwb import NWBHDF5IO\n",
    "from nwbwidgets import nwb2widget"
   ]
  },
  {
   "cell_type": "code",
   "execution_count": 27,
   "metadata": {},
   "outputs": [
    {
     "data": {
      "application/vnd.jupyter.widget-view+json": {
       "model_id": "bd7de565077e45f88c9b812941592257",
       "version_major": 2,
       "version_minor": 0
      },
      "text/plain": [
       "VBox(children=(HBox(children=(Label(value='session_description:', layout=Layout(max_height='40px', max_width='…"
      ]
     },
     "metadata": {},
     "output_type": "display_data"
    }
   ],
   "source": [
    "io = NWBHDF5IO(f_nwb, mode='r')\n",
    "nwb = io.read()\n",
    "nwb2widget(nwb)"
   ]
  }
 ],
 "metadata": {
  "kernelspec": {
   "display_name": "Python 3",
   "language": "python",
   "name": "python3"
  },
  "language_info": {
   "codemirror_mode": {
    "name": "ipython",
    "version": 3
   },
   "file_extension": ".py",
   "mimetype": "text/x-python",
   "name": "python",
   "nbconvert_exporter": "python",
   "pygments_lexer": "ipython3",
   "version": "3.7.4"
  }
 },
 "nbformat": 4,
 "nbformat_minor": 4
}
