{
 "cells": [
  {
   "cell_type": "code",
   "execution_count": 2,
   "metadata": {
    "collapsed": true
   },
   "outputs": [],
   "source": [
    "import os\n",
    "from pynwb import NWBHDF5IO\n",
    "from nwbwidgets import nwb2widget"
   ]
  },
  {
   "cell_type": "code",
   "execution_count": 3,
   "outputs": [],
   "source": [
    "# get source files\n",
    "base_path = 'C:\\\\Users\\\\apaulson3\\\\Desktop\\\\testingNWB\\\\'\n",
    "source_paths = dict(\n",
    "    dir_ecephys_rhd=dict(\n",
    "        type='dir',\n",
    "        path=os.path.join(base_path,'rawData\\\\A25_200317')\n",
    "    ),\n",
    ")\n",
    "\n",
    "#output filename\n",
    "f_nwb = os.path.join(base_path,'my_experiment_test.nwb')\n"
   ],
   "metadata": {
    "collapsed": false,
    "pycharm": {
     "name": "#%% file names\n"
    }
   }
  },
  {
   "cell_type": "code",
   "execution_count": 4,
   "outputs": [
    {
     "data": {
      "text/plain": "VBox(children=(HBox(children=(Label(value='session_description:', layout=Layout(max_height='40px', max_width='…",
      "application/vnd.jupyter.widget-view+json": {
       "version_major": 2,
       "version_minor": 0,
       "model_id": "bb5ca105cc064273a015107b76328589"
      }
     },
     "metadata": {},
     "output_type": "display_data"
    }
   ],
   "source": [
    "io = NWBHDF5IO(f_nwb, mode='r')\n",
    "nwb = io.read()\n",
    "nwb2widget(nwb)\n"
   ],
   "metadata": {
    "collapsed": false,
    "pycharm": {
     "name": "#%%\n"
    }
   }
  }
 ],
 "metadata": {
  "kernelspec": {
   "name": "pycharm-f6e823c1",
   "language": "python",
   "display_name": "PyCharm (singer-lab-to-nwb)"
  },
  "language_info": {
   "codemirror_mode": {
    "name": "ipython",
    "version": 2
   },
   "file_extension": ".py",
   "mimetype": "text/x-python",
   "name": "python",
   "nbconvert_exporter": "python",
   "pygments_lexer": "ipython2",
   "version": "2.7.6"
  },
  "pycharm": {
   "stem_cell": {
    "cell_type": "raw",
    "source": [
     "## This is just for testing the output of my simple conversion script\n",
     "## for converting rhd to nwb format\n",
     "## ALP 5/15/2020\n",
     "\n",
     "\n"
    ],
    "metadata": {
     "collapsed": false
    }
   }
  }
 },
 "nbformat": 4,
 "nbformat_minor": 0
}