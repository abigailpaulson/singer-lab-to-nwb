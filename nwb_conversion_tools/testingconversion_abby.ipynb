{
 "cells": [
  {
   "cell_type": "code",
   "execution_count": 9,
   "metadata": {},
   "outputs": [],
   "source": [
    "from nwb_conversion_tools.ecephys import Intan2NWB\n",
    "import yaml"
   ]
  },
  {
   "cell_type": "code",
   "execution_count": 10,
   "metadata": {},
   "outputs": [
    {
     "data": {
      "text/plain": [
       "{'NWBFile': {'data_collection': None,\n",
       "  'experiment_description': 'pn',\n",
       "  'experimenter': 'Steph Prince',\n",
       "  'identifier': 'F1180123',\n",
       "  'institution': 'My University',\n",
       "  'keywords': ['annular track', 'monosynaptic connections'],\n",
       "  'lab': 'Singer',\n",
       "  'notes': None,\n",
       "  'pharmacology': None,\n",
       "  'protocol': 'A16109',\n",
       "  'related_publications': None,\n",
       "  'session_description': 'session_description',\n",
       "  'session_id': 'F1180123',\n",
       "  'session_start_time': datetime.datetime(2018, 1, 23, 0, 9),\n",
       "  'slices': None,\n",
       "  'stimulus_notes': None,\n",
       "  'surgery': 'craniotomy in CA1 performed by Annabelle Singer on 180122',\n",
       "  'virus': None},\n",
       " 'Subject': {'description': 'trained in annular track',\n",
       "  'genotype': '5XFAD',\n",
       "  'sex': 'Ma',\n",
       "  'species': 'Mus musculus',\n",
       "  'subject_id': 'F1',\n",
       "  'weight': '30.0g',\n",
       "  'date_of_birth': datetime.datetime(2017, 3, 16, 17, 10)},\n",
       " 'Ecephys': {'Device': [{'name': 'intanrigA'}],\n",
       "  'ElectricalSeries': [{'description': 'ADDME',\n",
       "    'name': 'ElectricalSeries',\n",
       "    'rate': 20000,\n",
       "    'starting_time': 0.0,\n",
       "    'conversion': 1.0}],\n",
       "  'ElectrodeGroup': [{'description': 'neuronexus 32 channel poly3',\n",
       "    'device': 'intanrigA',\n",
       "    'location': 'hippocampal CA1',\n",
       "    'name': 'ElectrodeGroup_1'}]},\n",
       " 'Behavior': {'BehavioralTimeSeries': {'name': 'BehavioralTimeSeries',\n",
       "   'time_series': [{'name': 'Licks', 'description': 'lick rate'},\n",
       "    {'name': 'SpeedTranslational', 'description': 'forward velocity'},\n",
       "    {'name': 'SpeedRotational', 'description': 'rotational velocity'}]}}}"
      ]
     },
     "execution_count": 10,
     "metadata": {},
     "output_type": "execute_result"
    }
   ],
   "source": [
    "# Metadata\n",
    "metafile = 'template_metafile.yml'\n",
    "with open(metafile, 'r') as f:\n",
    "    metadata = yaml.safe_load(f)\n",
    "    \n",
    "metadata"
   ]
  },
  {
   "cell_type": "code",
   "execution_count": 11,
   "metadata": {},
   "outputs": [
    {
     "data": {
      "text/plain": [
       "{'dir_ecephys_rhd': {'type': 'dir',\n",
       "  'path': 'C:\\\\Users\\\\apaulson3\\\\Desktop\\\\testingNWB\\\\rawData\\\\A25_200317'}}"
      ]
     },
     "execution_count": 11,
     "metadata": {},
     "output_type": "execute_result"
    }
   ],
   "source": [
    "# Source paths\n",
    "source_paths = dict(\n",
    "    dir_ecephys_rhd=dict(\n",
    "        type='dir',\n",
    "        path='C:\\\\Users\\\\apaulson3\\\\Desktop\\\\testingNWB\\\\rawData\\\\A25_200317'\n",
    "    )\n",
    ")\n",
    "source_paths"
   ]
  },
  {
   "cell_type": "code",
   "execution_count": 12,
   "metadata": {},
   "outputs": [],
   "source": [
    "# Initialize converter\n",
    "converter = Intan2NWB(metadata=metadata, source_paths=source_paths)"
   ]
  },
  {
   "cell_type": "code",
   "execution_count": 13,
   "metadata": {},
   "outputs": [
    {
     "name": "stdout",
     "output_type": "stream",
     "text": [
      "Converting ecephys rhd data: 0.0%\n"
     ]
    }
   ],
   "source": [
    "# Run conversion\n",
    "converter.run_conversion()"
   ]
  },
  {
   "cell_type": "code",
   "execution_count": 14,
   "metadata": {},
   "outputs": [
    {
     "name": "stdout",
     "output_type": "stream",
     "text": [
      "root pynwb.file.NWBFile at 0x2646595422920\n",
      "Fields:\n",
      "  acquisition: {\n",
      "    ElectricalSeries <class 'pynwb.ecephys.ElectricalSeries'>\n",
      "  }\n",
      "  devices: {\n",
      "    intanrigA <class 'pynwb.device.Device'>\n",
      "  }\n",
      "  electrode_groups: {\n",
      "    ElectrodeGroup_1 <class 'pynwb.ecephys.ElectrodeGroup'>\n",
      "  }\n",
      "  electrodes: electrodes <class 'hdmf.common.table.DynamicTable'>\n",
      "  experiment_description: pn\n",
      "  experimenter: ['Steph Prince']\n",
      "  file_create_date: [datetime.datetime(2020, 5, 13, 13, 39, 28, 543657, tzinfo=tzlocal())]\n",
      "  identifier: F1180123\n",
      "  institution: My University\n",
      "  keywords: ['annular track' 'monosynaptic connections']\n",
      "  lab: Singer\n",
      "  protocol: A16109\n",
      "  session_description: session_description\n",
      "  session_id: F1180123\n",
      "  session_start_time: 2020-03-17 13:09:57-04:00\n",
      "  subject: subject pynwb.file.Subject at 0x2646595420296\n",
      "Fields:\n",
      "  date_of_birth: 2017-03-16 17:10:00-04:00\n",
      "  description: trained in annular track\n",
      "  genotype: 5XFAD\n",
      "  sex: Ma\n",
      "  species: Mus musculus\n",
      "  subject_id: F1\n",
      "  weight: 30.0g\n",
      "\n",
      "  surgery: craniotomy in CA1 performed by Annabelle Singer on 180122\n",
      "  timestamps_reference_time: 2020-03-17 13:09:57-04:00\n",
      "\n"
     ]
    }
   ],
   "source": [
    "# To visualize NWB contents:\n",
    "print(converter.nwbfile)"
   ]
  },
  {
   "cell_type": "code",
   "execution_count": 16,
   "metadata": {},
   "outputs": [
    {
     "name": "stdout",
     "output_type": "stream",
     "text": [
      "Converting ecephys rhd data: 6.666666666666667%\n",
      "Converting ecephys rhd data: 13.333333333333334%\n",
      "Converting ecephys rhd data: 20.0%\n",
      "Converting ecephys rhd data: 26.666666666666668%\n",
      "Converting ecephys rhd data: 33.333333333333336%\n",
      "Converting ecephys rhd data: 40.0%\n",
      "Converting ecephys rhd data: 46.666666666666664%\n",
      "Converting ecephys rhd data: 53.333333333333336%\n",
      "Converting ecephys rhd data: 60.0%\n",
      "Converting ecephys rhd data: 66.66666666666667%\n",
      "Converting ecephys rhd data: 73.33333333333333%\n",
      "Converting ecephys rhd data: 80.0%\n",
      "Converting ecephys rhd data: 86.66666666666667%\n",
      "Converting ecephys rhd data: 93.33333333333333%\n"
     ]
    }
   ],
   "source": [
    "# To save content to NWB file:\n",
    "converter.save(to_path='C:\\\\Users\\\\apaulson3\\\\Desktop\\\\testingNWB\\\\output.nwb')"
   ]
  },
  {
   "cell_type": "code",
   "execution_count": null,
   "metadata": {},
   "outputs": [],
   "source": []
  }
 ],
 "metadata": {
  "kernelspec": {
   "display_name": "Python [conda env:nwb_conversion_env]",
   "language": "python",
   "name": "conda-env-nwb_conversion_env-py"
  },
  "language_info": {
   "codemirror_mode": {
    "name": "ipython",
    "version": 3
   },
   "file_extension": ".py",
   "mimetype": "text/x-python",
   "name": "python",
   "nbconvert_exporter": "python",
   "pygments_lexer": "ipython3",
   "version": "3.7.7"
  }
 },
 "nbformat": 4,
 "nbformat_minor": 4
}
